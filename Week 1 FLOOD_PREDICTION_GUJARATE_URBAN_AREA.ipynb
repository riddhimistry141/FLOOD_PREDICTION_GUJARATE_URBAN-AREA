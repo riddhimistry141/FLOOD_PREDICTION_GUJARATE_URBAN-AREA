{
 "cells": [
  {
   "cell_type": "markdown",
   "id": "2d506fb0",
   "metadata": {},
   "source": [
    "Project Title:\n",
    "Flood Prediction and Early Warning System for Gujarat's Urban Areas"
   ]
  },
  {
   "cell_type": "markdown",
   "id": "f0c7f574",
   "metadata": {},
   "source": [
    "Problem Statement: Gujarat experiences severe flooding during monsoons, amplified by climate change, leading to loss of life, displacement, and economic damage. For instance, urban centers like Ahmedabad and Vadodara face risks from river overflows and heavy rainfall, but current warning systems often lack real-time precision, delaying evacuations and resource allocation."
   ]
  },
  {
   "cell_type": "markdown",
   "id": "34287a82",
   "metadata": {},
   "source": [
    "Description:This project uses a dataset \"Flood Risk Prediction Dataset in India\" is a comprehensive dataset designed to facilitate the development and evaluation of predictive models for flood risks across various regions of India(Gujrate). The dataset includes a wide range of features encompassing meteorological, geographical, hydrological, socio-economic, and historical flood data. These features are crucial for understanding the factors that contribute to flood occurrences and for building accurate prediction models."
   ]
  },
  {
   "cell_type": "markdown",
   "id": "cabf8f14",
   "metadata": {},
   "source": [
    "Load Library"
   ]
  },
  {
   "cell_type": "code",
   "execution_count": 5,
   "id": "cf30647b",
   "metadata": {},
   "outputs": [],
   "source": [
    "import pandas as pd\n",
    "import numpy as np\n",
    "import matplotlib.pyplot as plt\n",
    "import seaborn as sns\n",
    "from sklearn.preprocessing import LabelEncoder, StandardScaler\n",
    "from sklearn.model_selection import train_test_split\n",
    "from sklearn.ensemble import RandomForestClassifier\n",
    "from sklearn.metrics import classification_report, confusion_matrix, accuracy_score\n",
    "import joblib"
   ]
  },
  {
   "cell_type": "code",
   "execution_count": 6,
   "id": "7646d665",
   "metadata": {},
   "outputs": [],
   "source": [
    "# Load augmented dataset\n",
    "df = pd.read_csv('flood_risk_dataset_india.csv')"
   ]
  },
  {
   "cell_type": "code",
   "execution_count": 7,
   "id": "5ca2ed96",
   "metadata": {},
   "outputs": [
    {
     "name": "stdout",
     "output_type": "stream",
     "text": [
      "    Latitude  Longitude  Rainfall (mm)  Temperature (°C)  Humidity (%)  \\\n",
      "0  18.861663  78.835584     218.999493         34.144337     43.912963   \n",
      "1  35.570715  77.654451      55.353599         28.778774     27.585422   \n",
      "2  29.227824  73.108463     103.991908         43.934956     30.108738   \n",
      "3  25.361096  85.610733     198.984191         21.569354     34.453690   \n",
      "4  12.524541  81.822101     144.626803         32.635692     36.292267   \n",
      "\n",
      "   River Discharge (m³/s)  Water Level (m)  Elevation (m)    Land Cover  \\\n",
      "0             4236.182888         7.415552     377.465433    Water Body   \n",
      "1             2472.585219         8.811019    7330.608875        Forest   \n",
      "2              977.328053         4.631799    2205.873488  Agricultural   \n",
      "3             3683.208933         2.891787    2512.277800        Desert   \n",
      "4             2093.390678         3.188466    2001.818223  Agricultural   \n",
      "\n",
      "  Soil Type  Population Density  Infrastructure  Historical Floods  \\\n",
      "0      Clay         7276.742184               1                  0   \n",
      "1      Peat         6897.736956               0                  1   \n",
      "2      Loam         4361.518494               1                  1   \n",
      "3     Sandy         6163.069701               1                  1   \n",
      "4      Loam         6167.964591               1                  0   \n",
      "\n",
      "   Flood Occurred  \n",
      "0               1  \n",
      "1               0  \n",
      "2               1  \n",
      "3               0  \n",
      "4               0  \n"
     ]
    }
   ],
   "source": [
    "#Display first few rows\n",
    "print(df.head())"
   ]
  },
  {
   "cell_type": "markdown",
   "id": "a6d53bfb",
   "metadata": {},
   "source": [
    "Basic info"
   ]
  },
  {
   "cell_type": "markdown",
   "id": "9e61b401",
   "metadata": {},
   "source": [
    "Data Preprocessing"
   ]
  },
  {
   "cell_type": "code",
   "execution_count": null,
   "id": "8fff63f6",
   "metadata": {},
   "outputs": [
    {
     "name": "stdout",
     "output_type": "stream",
     "text": [
      "<class 'pandas.core.frame.DataFrame'>\n",
      "RangeIndex: 365 entries, 0 to 364\n",
      "Data columns (total 11 columns):\n",
      " #   Column                        Non-Null Count  Dtype  \n",
      "---  ------                        --------------  -----  \n",
      " 0   Date                          365 non-null    object \n",
      " 1   Cumulative_Rainfall_3d_mm     365 non-null    float64\n",
      " 2   Soil_Moisture_percent         365 non-null    float64\n",
      " 3   Urban_Density_people_per_km2  365 non-null    int64  \n",
      " 4   Drainage_Capacity_mm_per_day  365 non-null    float64\n",
      " 5   Imperviousness_Factor         365 non-null    float64\n",
      " 6   Flood_Probability             365 non-null    float64\n",
      " 7   Flood_Label                   365 non-null    int64  \n",
      " 8   Rainfall_mm                   365 non-null    float64\n",
      " 9   River_Level_m                 365 non-null    float64\n",
      " 10  Temperature_C                 365 non-null    float64\n",
      "dtypes: float64(8), int64(2), object(1)\n",
      "memory usage: 31.5+ KB\n",
      "None\n"
     ]
    }
   ],
   "source": [
    "print(df.info())"
   ]
  },
  {
   "cell_type": "code",
   "execution_count": 18,
   "id": "d9df87f9",
   "metadata": {},
   "outputs": [
    {
     "name": "stdout",
     "output_type": "stream",
     "text": [
      "Date                            0\n",
      "Cumulative_Rainfall_3d_mm       0\n",
      "Soil_Moisture_percent           0\n",
      "Urban_Density_people_per_km2    0\n",
      "Drainage_Capacity_mm_per_day    0\n",
      "Imperviousness_Factor           0\n",
      "Flood_Probability               0\n",
      "Flood_Label                     0\n",
      "Rainfall_mm                     0\n",
      "River_Level_m                   0\n",
      "Temperature_C                   0\n",
      "dtype: int64\n"
     ]
    }
   ],
   "source": [
    "print(df.isnull().sum())"
   ]
  },
  {
   "cell_type": "code",
   "execution_count": 21,
   "id": "53f9c826",
   "metadata": {},
   "outputs": [
    {
     "name": "stdout",
     "output_type": "stream",
     "text": [
      "       Cumulative_Rainfall_3d_mm  Soil_Moisture_percent  \\\n",
      "count                 365.000000             365.000000   \n",
      "mean                  175.721479              10.817589   \n",
      "std                   285.507869               7.199194   \n",
      "min                     1.120000               0.000000   \n",
      "25%                     7.180000               5.410000   \n",
      "50%                     9.660000               9.710000   \n",
      "75%                   289.040000              15.150000   \n",
      "max                  1280.220000              39.140000   \n",
      "\n",
      "       Urban_Density_people_per_km2  Drainage_Capacity_mm_per_day  \\\n",
      "count                         365.0                    365.000000   \n",
      "mean                        12000.0                     28.163616   \n",
      "std                             0.0                      2.933012   \n",
      "min                         12000.0                     20.090000   \n",
      "25%                         12000.0                     26.130000   \n",
      "50%                         12000.0                     28.130000   \n",
      "75%                         12000.0                     29.950000   \n",
      "max                         12000.0                     36.960000   \n",
      "\n",
      "       Imperviousness_Factor  Flood_Probability  Flood_Label  Rainfall_mm  \\\n",
      "count             365.000000         365.000000        365.0   365.000000   \n",
      "mean                0.873671           0.887443          1.0    47.779084   \n",
      "std                 0.042719           0.078575          0.0   147.604659   \n",
      "min                 0.800000           0.770300          1.0     0.001135   \n",
      "25%                 0.840000           0.825600          1.0     1.790699   \n",
      "50%                 0.870000           0.849200          1.0     3.460253   \n",
      "75%                 0.910000           0.996400          1.0    22.272539   \n",
      "max                 0.950000           1.000000          1.0  1510.062631   \n",
      "\n",
      "       River_Level_m  Temperature_C  \n",
      "count     365.000000     365.000000  \n",
      "mean        4.086509      27.330516  \n",
      "std         3.834791       7.411821  \n",
      "min         0.036272      13.673640  \n",
      "25%         1.225851      20.746910  \n",
      "50%         1.859820      27.743198  \n",
      "75%         8.961094      33.184496  \n",
      "max        11.576028      42.898818  \n"
     ]
    }
   ],
   "source": [
    "print(df.describe())"
   ]
  },
  {
   "cell_type": "code",
   "execution_count": 8,
   "id": "e288f451",
   "metadata": {},
   "outputs": [
    {
     "name": "stdout",
     "output_type": "stream",
     "text": [
      "(10000, 14)\n"
     ]
    }
   ],
   "source": [
    "print(df.shape)"
   ]
  },
  {
   "cell_type": "code",
   "execution_count": 12,
   "id": "793abe03",
   "metadata": {},
   "outputs": [
    {
     "name": "stdout",
     "output_type": "stream",
     "text": [
      "Index(['Latitude', 'Longitude', 'Rainfall (mm)', 'Temperature (°C)',\n",
      "       'Humidity (%)', 'River Discharge (m³/s)', 'Water Level (m)',\n",
      "       'Elevation (m)', 'Land Cover', 'Soil Type', 'Population Density',\n",
      "       'Infrastructure', 'Historical Floods', 'Flood Occurred'],\n",
      "      dtype='object')\n"
     ]
    }
   ],
   "source": [
    "print(df.columns)"
   ]
  },
  {
   "cell_type": "markdown",
   "id": "f346c0cd",
   "metadata": {},
   "source": [
    "Only data on state of Gujarat"
   ]
  },
  {
   "cell_type": "code",
   "execution_count": 9,
   "id": "23f3bbbd",
   "metadata": {},
   "outputs": [],
   "source": [
    "\n",
    "#Filter for Gujarat Using Latitude/Longitude\n",
    "gujarat_df = df[\n",
    "    (df['Latitude'] >= 20.0) & (df['Latitude'] <= 24.7) &\n",
    "    (df['Longitude'] >= 68.4) & (df['Longitude'] <= 74.4)\n",
    "]"
   ]
  },
  {
   "cell_type": "code",
   "execution_count": 10,
   "id": "8e1c6600",
   "metadata": {},
   "outputs": [
    {
     "name": "stdout",
     "output_type": "stream",
     "text": [
      "Filtered Gujarat data: (336, 14)\n"
     ]
    },
    {
     "data": {
      "text/html": [
       "<div>\n",
       "<style scoped>\n",
       "    .dataframe tbody tr th:only-of-type {\n",
       "        vertical-align: middle;\n",
       "    }\n",
       "\n",
       "    .dataframe tbody tr th {\n",
       "        vertical-align: top;\n",
       "    }\n",
       "\n",
       "    .dataframe thead th {\n",
       "        text-align: right;\n",
       "    }\n",
       "</style>\n",
       "<table border=\"1\" class=\"dataframe\">\n",
       "  <thead>\n",
       "    <tr style=\"text-align: right;\">\n",
       "      <th></th>\n",
       "      <th>Latitude</th>\n",
       "      <th>Longitude</th>\n",
       "      <th>Rainfall (mm)</th>\n",
       "      <th>Temperature (°C)</th>\n",
       "      <th>Humidity (%)</th>\n",
       "      <th>River Discharge (m³/s)</th>\n",
       "      <th>Water Level (m)</th>\n",
       "      <th>Elevation (m)</th>\n",
       "      <th>Land Cover</th>\n",
       "      <th>Soil Type</th>\n",
       "      <th>Population Density</th>\n",
       "      <th>Infrastructure</th>\n",
       "      <th>Historical Floods</th>\n",
       "      <th>Flood Occurred</th>\n",
       "    </tr>\n",
       "  </thead>\n",
       "  <tbody>\n",
       "    <tr>\n",
       "      <th>18</th>\n",
       "      <td>20.526406</td>\n",
       "      <td>70.923409</td>\n",
       "      <td>179.721453</td>\n",
       "      <td>34.841212</td>\n",
       "      <td>20.712469</td>\n",
       "      <td>3038.203913</td>\n",
       "      <td>4.714103</td>\n",
       "      <td>5106.693174</td>\n",
       "      <td>Forest</td>\n",
       "      <td>Peat</td>\n",
       "      <td>1427.409995</td>\n",
       "      <td>0</td>\n",
       "      <td>0</td>\n",
       "      <td>1</td>\n",
       "    </tr>\n",
       "    <tr>\n",
       "      <th>39</th>\n",
       "      <td>20.764422</td>\n",
       "      <td>70.892198</td>\n",
       "      <td>13.577494</td>\n",
       "      <td>15.989522</td>\n",
       "      <td>56.491764</td>\n",
       "      <td>2240.941880</td>\n",
       "      <td>4.666739</td>\n",
       "      <td>7313.993796</td>\n",
       "      <td>Water Body</td>\n",
       "      <td>Peat</td>\n",
       "      <td>3299.939146</td>\n",
       "      <td>1</td>\n",
       "      <td>0</td>\n",
       "      <td>0</td>\n",
       "    </tr>\n",
       "    <tr>\n",
       "      <th>41</th>\n",
       "      <td>22.360130</td>\n",
       "      <td>72.082343</td>\n",
       "      <td>225.614078</td>\n",
       "      <td>17.490126</td>\n",
       "      <td>77.849922</td>\n",
       "      <td>3503.323335</td>\n",
       "      <td>9.432808</td>\n",
       "      <td>3729.181832</td>\n",
       "      <td>Urban</td>\n",
       "      <td>Loam</td>\n",
       "      <td>6879.586521</td>\n",
       "      <td>1</td>\n",
       "      <td>0</td>\n",
       "      <td>0</td>\n",
       "    </tr>\n",
       "    <tr>\n",
       "      <th>136</th>\n",
       "      <td>23.044928</td>\n",
       "      <td>71.457629</td>\n",
       "      <td>75.527640</td>\n",
       "      <td>42.226979</td>\n",
       "      <td>37.207684</td>\n",
       "      <td>1009.717102</td>\n",
       "      <td>4.336522</td>\n",
       "      <td>6775.972468</td>\n",
       "      <td>Desert</td>\n",
       "      <td>Clay</td>\n",
       "      <td>1623.784864</td>\n",
       "      <td>0</td>\n",
       "      <td>0</td>\n",
       "      <td>1</td>\n",
       "    </tr>\n",
       "    <tr>\n",
       "      <th>153</th>\n",
       "      <td>22.194130</td>\n",
       "      <td>69.540498</td>\n",
       "      <td>189.906366</td>\n",
       "      <td>20.805518</td>\n",
       "      <td>74.021856</td>\n",
       "      <td>1771.197538</td>\n",
       "      <td>1.790897</td>\n",
       "      <td>8544.733938</td>\n",
       "      <td>Urban</td>\n",
       "      <td>Clay</td>\n",
       "      <td>442.296537</td>\n",
       "      <td>1</td>\n",
       "      <td>1</td>\n",
       "      <td>1</td>\n",
       "    </tr>\n",
       "  </tbody>\n",
       "</table>\n",
       "</div>"
      ],
      "text/plain": [
       "      Latitude  Longitude  Rainfall (mm)  Temperature (°C)  Humidity (%)  \\\n",
       "18   20.526406  70.923409     179.721453         34.841212     20.712469   \n",
       "39   20.764422  70.892198      13.577494         15.989522     56.491764   \n",
       "41   22.360130  72.082343     225.614078         17.490126     77.849922   \n",
       "136  23.044928  71.457629      75.527640         42.226979     37.207684   \n",
       "153  22.194130  69.540498     189.906366         20.805518     74.021856   \n",
       "\n",
       "     River Discharge (m³/s)  Water Level (m)  Elevation (m)  Land Cover  \\\n",
       "18              3038.203913         4.714103    5106.693174      Forest   \n",
       "39              2240.941880         4.666739    7313.993796  Water Body   \n",
       "41              3503.323335         9.432808    3729.181832       Urban   \n",
       "136             1009.717102         4.336522    6775.972468      Desert   \n",
       "153             1771.197538         1.790897    8544.733938       Urban   \n",
       "\n",
       "    Soil Type  Population Density  Infrastructure  Historical Floods  \\\n",
       "18       Peat         1427.409995               0                  0   \n",
       "39       Peat         3299.939146               1                  0   \n",
       "41       Loam         6879.586521               1                  0   \n",
       "136      Clay         1623.784864               0                  0   \n",
       "153      Clay          442.296537               1                  1   \n",
       "\n",
       "     Flood Occurred  \n",
       "18                1  \n",
       "39                0  \n",
       "41                0  \n",
       "136               1  \n",
       "153               1  "
      ]
     },
     "execution_count": 10,
     "metadata": {},
     "output_type": "execute_result"
    }
   ],
   "source": [
    "print(\"Filtered Gujarat data:\", gujarat_df.shape)\n",
    "gujarat_df.head()"
   ]
  },
  {
   "cell_type": "code",
   "execution_count": 11,
   "id": "4e938d20",
   "metadata": {},
   "outputs": [
    {
     "name": "stdout",
     "output_type": "stream",
     "text": [
      "Latitude                  0\n",
      "Longitude                 0\n",
      "Rainfall (mm)             0\n",
      "Temperature (°C)          0\n",
      "Humidity (%)              0\n",
      "River Discharge (m³/s)    0\n",
      "Water Level (m)           0\n",
      "Elevation (m)             0\n",
      "Land Cover                0\n",
      "Soil Type                 0\n",
      "Population Density        0\n",
      "Infrastructure            0\n",
      "Historical Floods         0\n",
      "Flood Occurred            0\n",
      "dtype: int64\n"
     ]
    }
   ],
   "source": [
    "# Check missing data\n",
    "print(gujarat_df.isnull().sum())"
   ]
  },
  {
   "cell_type": "code",
   "execution_count": null,
   "id": "fca6d4b1",
   "metadata": {},
   "outputs": [],
   "source": []
  }
 ],
 "metadata": {
  "kernelspec": {
   "display_name": "tfenv",
   "language": "python",
   "name": "python3"
  },
  "language_info": {
   "codemirror_mode": {
    "name": "ipython",
    "version": 3
   },
   "file_extension": ".py",
   "mimetype": "text/x-python",
   "name": "python",
   "nbconvert_exporter": "python",
   "pygments_lexer": "ipython3",
   "version": "3.9.23"
  }
 },
 "nbformat": 4,
 "nbformat_minor": 5
}
